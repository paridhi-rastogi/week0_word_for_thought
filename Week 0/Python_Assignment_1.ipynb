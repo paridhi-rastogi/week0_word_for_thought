{
  "nbformat": 4,
  "nbformat_minor": 0,
  "metadata": {
    "colab": {
      "provenance": []
    },
    "kernelspec": {
      "name": "python3",
      "display_name": "Python 3"
    },
    "language_info": {
      "name": "python"
    }
  },
  "cells": [
    {
      "cell_type": "markdown",
      "source": [
        "Solving these exercises will help make you a better programmer. Solve them in order, because each solution builds scaffolding, working code, and knowledge you can use on future problems. Read the directions carefully, and have fun!"
      ],
      "metadata": {
        "id": "rMNaoJBIn0eW"
      }
    },
    {
      "cell_type": "markdown",
      "source": [
        "1. Fork the repository and make a copy of this notebook and rename it as your name_Assignment1\n",
        "2. Generate a pull request as taught to you in the GitHub Session. The pull request message should also be yourname_Assignment1\n",
        "\n"
      ],
      "metadata": {
        "id": "dtdJ1pURn--h"
      }
    },
    {
      "cell_type": "markdown",
      "source": [
        "# Orientation\n",
        "1. This code notebook is composed of cells. Each cell is either text or Python code.\n",
        "2. To run a cell of code, click the \"play button\" icon to the left of the cell or click on the cell and press \"Shift+Enter\" on your keyboard. This will execute the Python code contained in the cell. Executing a cell that defines a variable is important before executing or authoring a cell that depends on that previously created variable assignment.\n",
        "3. Each assert line is both an example and a test that tests for the presence and functionality of the instructed exercise."
      ],
      "metadata": {
        "id": "Y1Lrvy8eonkb"
      }
    },
    {
      "cell_type": "markdown",
      "source": [
        "# Outline\n",
        "1. Each cell starts with a problem statement that describes the\n",
        "exercise to complete.\n",
        "2. Underneath each problem statement, learners will need to write code to produce an answer.\n",
        "3. The assert lines test to see that your code solves the problem appropriately.\n",
        "4. Do not alter or delete the assertion tests, since those are providing automated testing.\n",
        "5. Many exercises will rely on previous solutions to be correctly completed\n",
        "6. The print(\"Exercise is complete\") line will only run if your solution passes the assertion test(s)\n",
        "7. Be sure to create programmatic solutions that will work for all inputs:\n",
        "For example, calling the is_even(2) returns True, but your function should work for all even numbers, both positive and negative."
      ],
      "metadata": {
        "id": "egsBMww1o-Kw"
      }
    },
    {
      "cell_type": "code",
      "source": [
        "# Example problem:\n",
        "# Uncomment the line below and run this cell.\n",
        "# The hashtag \"#\" character in a line of Python code is the comment character.\n",
        "doing_python_right_now = True\n",
        "\n",
        "# The lines below will test your answer. If you see an error, then it means that your answer is incorrect or incomplete.\n",
        "assert doing_python_right_now == True, \"If you see a NameError, it means that the variable is not created and assigned a value. An 'Assertion Error' means that the value of the variable is incorrect.\"\n",
        "print(\"Exercise 0 is correct\") # This line will print if your solution passes the assertion above."
      ],
      "metadata": {
        "id": "wn8-c0_hppDZ",
        "colab": {
          "base_uri": "https://localhost:8080/"
        },
        "outputId": "45aed9f3-14dd-4e8d-eb18-8bad63cf1ef8"
      },
      "execution_count": null,
      "outputs": [
        {
          "output_type": "stream",
          "name": "stdout",
          "text": [
            "Exercise 0 is correct\n"
          ]
        }
      ]
    },
    {
      "cell_type": "code",
      "source": [
        "# Exercise 1\n",
        "# On the line below, create a variable named on_mars_right_now and assign it the boolean value of False\n",
        "on_mars_right_now: bool = False\n",
        "\n",
        "assert on_mars_right_now == False, \"If you see a Name Error, be sure to create the variable and assign it a value.\"\n",
        "print(\"Exercise 1 is correct.\")"
      ],
      "metadata": {
        "id": "b-U50lKCp-bF",
        "colab": {
          "base_uri": "https://localhost:8080/"
        },
        "outputId": "62d8f924-c950-4383-d534-8985f3ef319b"
      },
      "execution_count": null,
      "outputs": [
        {
          "output_type": "stream",
          "name": "stdout",
          "text": [
            "Exercise 1 is correct.\n"
          ]
        }
      ]
    },
    {
      "cell_type": "code",
      "source": [
        "# Exercise 2\n",
        "# Create a variable named fruits and assign it a list of fruits containing the following fruit names as strings:\n",
        "# mango, banana, guava, kiwi, and strawberry.\n",
        "fruits = [\"mango\",\"banana\",\"guava\",\"kiwi\",\"strawberry\"]\n",
        "\n",
        "assert fruits == [\"mango\", \"banana\", \"guava\", \"kiwi\", \"strawberry\"], \"If you see an Assert Error, ensure the variable contains all the strings in the provided order\"\n",
        "print(\"Exercise 2 is correct.\")"
      ],
      "metadata": {
        "id": "m_7w5CKtqDGY",
        "outputId": "eae37a3e-8abd-4695-b091-7d60c332e8af",
        "colab": {
          "base_uri": "https://localhost:8080/"
        }
      },
      "execution_count": null,
      "outputs": [
        {
          "output_type": "stream",
          "name": "stdout",
          "text": [
            "Exercise 2 is correct.\n"
          ]
        }
      ]
    },
    {
      "cell_type": "code",
      "source": [
        "# Exercise 3\n",
        "# Create a variable named vegetables and assign it a list of fruits containing the following vegetable names as strings:\n",
        "# eggplant, broccoli, carrot, cauliflower, and zucchini\n",
        "vegetables = [\"eggplant\", \"broccoli\", \"carrot\", \"cauliflower\", \"zucchini\"]\n",
        "\n",
        "assert vegetables == [\"eggplant\", \"broccoli\", \"carrot\", \"cauliflower\", \"zucchini\"], \"Ensure the variable contains all the strings in the provided order\"\n",
        "print(\"Exercise 3 is correct.\")"
      ],
      "metadata": {
        "id": "13W-B4Z0qIQD",
        "outputId": "e3ddc0ef-e2d9-497a-8997-bf31904da5bc",
        "colab": {
          "base_uri": "https://localhost:8080/"
        }
      },
      "execution_count": null,
      "outputs": [
        {
          "output_type": "stream",
          "name": "stdout",
          "text": [
            "Exercise 3 is correct.\n"
          ]
        }
      ]
    },
    {
      "cell_type": "markdown",
      "source": [
        "# List Operations\n",
        "Recommend finding and using built-in Python functionality whenever possible.\n",
        "Google any syntax that you do not know.\n"
      ],
      "metadata": {
        "id": "tfyYtxDxqUMY"
      }
    },
    {
      "cell_type": "code",
      "source": [
        "# Exercise 5\n",
        "# Given the following assigment of the list of fruits, add \"tomato\" to the end of the list.\n",
        "fruits = [\"mango\", \"banana\", \"guava\", \"kiwi\", \"strawberry\"]\n",
        "fruits.append(\"tomato\")\n",
        "\n",
        "assert fruits == [\"mango\", \"banana\", \"guava\", \"kiwi\", \"strawberry\", \"tomato\"], \"Ensure the variable contains all the strings in the right order\"\n",
        "print(\"Exercise 5 is correct\")"
      ],
      "metadata": {
        "id": "vHrZE8u-qLn0",
        "colab": {
          "base_uri": "https://localhost:8080/"
        },
        "outputId": "292ff084-8744-4a0b-c503-2e7c98a8d68c"
      },
      "execution_count": null,
      "outputs": [
        {
          "output_type": "stream",
          "name": "stdout",
          "text": [
            "Exercise 5 is correct\n"
          ]
        }
      ]
    },
    {
      "cell_type": "code",
      "source": [
        "# Exercise 6\n",
        "# Given the list of numbers defined below, reverse the list of numbers that you created above.\n",
        "numbers = [1, 2, 3, 4, 5, 6, 7, 8, 9, 10]\n",
        "numbers.reverse()\n",
        "\n",
        "\n",
        "assert numbers == [10, 9, 8, 7, 6, 5, 4, 3, 2, 1], \"Assert Error means that the answer is incorrect.\"\n",
        "print(\"Exercise 6 is correct.\")"
      ],
      "metadata": {
        "id": "2x4qFPSgqmDh",
        "colab": {
          "base_uri": "https://localhost:8080/"
        },
        "outputId": "54129616-4552-4830-fb3c-6f7bd76ecbd0"
      },
      "execution_count": null,
      "outputs": [
        {
          "output_type": "stream",
          "name": "stdout",
          "text": [
            "Exercise 6 is correct.\n"
          ]
        }
      ]
    },
    {
      "cell_type": "code",
      "source": [
        "# Exercise 7\n",
        "# Sort the vegetables in alphabetical order\n",
        "vegetables = ['broccoli', 'carrot', 'cauliflower', 'eggplant', 'tomato', 'zucchini']\n",
        "assert vegetables == ['broccoli', 'carrot', 'cauliflower', 'eggplant', 'tomato', 'zucchini']\n",
        "vegetables.sort()\n",
        "print(\"Exercise 7 is correct.\")"
      ],
      "metadata": {
        "id": "TlT-8Jmzqpb_",
        "colab": {
          "base_uri": "https://localhost:8080/"
        },
        "outputId": "52670ba1-ba64-4ff8-ac19-1b9bb4b9fe03"
      },
      "execution_count": null,
      "outputs": [
        {
          "output_type": "stream",
          "name": "stdout",
          "text": [
            "Exercise 7 is correct.\n"
          ]
        }
      ]
    },
    {
      "cell_type": "code",
      "source": [
        "# Exercise 8\n",
        "# Write the code necessary to sort the fruits in reverse alphabetical order\n",
        "fruits = ['tomato', 'strawberry', 'mango', 'kiwi', 'guava', 'banana']\n",
        "assert fruits == ['tomato', 'strawberry', 'mango', 'kiwi', 'guava', 'banana']\n",
        "fruits.sort()\n",
        "fruits.reverse()\n",
        "\n",
        "print(\"Exercise 8 is correct.\")"
      ],
      "metadata": {
        "id": "TZUKbNM1qulZ",
        "colab": {
          "base_uri": "https://localhost:8080/"
        },
        "outputId": "98fc3744-f4c2-4629-911b-5ed2d1a075a0"
      },
      "execution_count": null,
      "outputs": [
        {
          "output_type": "stream",
          "name": "stdout",
          "text": [
            "Exercise 8 is correct.\n"
          ]
        }
      ]
    },
    {
      "cell_type": "code",
      "source": [
        "# Exercise 9\n",
        "# Write the code necessary to produce a single list that holds all fruits then all vegetables in the order as they were sorted above.\n",
        "fruits = ['tomato', 'strawberry', 'mango', 'kiwi', 'guava', 'banana']\n",
        "vegetables = ['broccoli', 'carrot', 'cauliflower', 'eggplant', 'tomato', 'zucchini']\n",
        "fruits.sort()\n",
        "fruits.reverse()\n",
        "vegetables.sort()\n",
        "fruits_and_veggies = fruits + vegetables\n",
        "assert fruits_and_veggies == ['tomato', 'strawberry', 'mango', 'kiwi', 'guava', 'banana', 'broccoli', 'carrot', 'cauliflower', 'eggplant', 'tomato', 'zucchini']\n",
        "print(\"Exercise 9 is correct\")"
      ],
      "metadata": {
        "id": "MopnqOvpq451",
        "colab": {
          "base_uri": "https://localhost:8080/"
        },
        "outputId": "e2005fd0-7d60-476c-d924-a1d15a844480"
      },
      "execution_count": null,
      "outputs": [
        {
          "output_type": "stream",
          "name": "stdout",
          "text": [
            "Exercise 9 is correct\n"
          ]
        }
      ]
    },
    {
      "cell_type": "markdown",
      "source": [
        "# Functions\n",
        " Be sure to `return` values from your function definitions. The assert statements will call your function(s) for you.\n",
        "\n"
      ],
      "metadata": {
        "id": "oWLyvC9LrBCR"
      }
    },
    {
      "cell_type": "code",
      "source": [
        "# Run this cell in order to generate some numbers to use in our functions after this.\n",
        "import random\n",
        "\n",
        "positive_even_number = random.randrange(2, 101, 2)\n",
        "negative_even_number = random.randrange(-100, -1, 2)\n",
        "\n",
        "positive_odd_number = random.randrange(1, 100, 2)\n",
        "negative_odd_number = random.randrange(-101, 0, 2)\n",
        "print(\"We now have some random numbers available for future exercises.\")\n",
        "print(\"The random positive even number is\", positive_even_number)\n",
        "print(\"The random positive odd nubmer is\", positive_odd_number)\n",
        "print(\"The random negative even number\", negative_even_number)\n",
        "print(\"The random negative odd number\", negative_odd_number)"
      ],
      "metadata": {
        "colab": {
          "base_uri": "https://localhost:8080/"
        },
        "id": "mA1EpbOcsIIO",
        "outputId": "83379078-3468-4d58-dec2-d823ddda9c70"
      },
      "execution_count": null,
      "outputs": [
        {
          "output_type": "stream",
          "name": "stdout",
          "text": [
            "We now have some random numbers available for future exercises.\n",
            "The random positive even number is 68\n",
            "The random positive odd nubmer is 83\n",
            "The random negative even number -2\n",
            "The random negative odd number -91\n"
          ]
        }
      ]
    },
    {
      "cell_type": "code",
      "source": [
        "# Example function defintion:\n",
        "# Write a say_hello function that adds the string \"Hello, \" to the beginning and \"!\" to the end of any given input.\n",
        "def say_hello(name):\n",
        "    return \"Hello, \" + name + \"!\"\n",
        "\n",
        "assert say_hello(\"Jane\") == \"Hello, Jane!\", \"Double check the inputs and data types\"\n",
        "assert say_hello(\"Pat\") == \"Hello, Pat!\", \"Double check the inputs and data types\"\n",
        "assert say_hello(\"Astrud\") == \"Hello, Astrud!\", \"Double check the inputs and data types\"\n",
        "print(\"The example function definition ran appropriately\")"
      ],
      "metadata": {
        "colab": {
          "base_uri": "https://localhost:8080/"
        },
        "id": "HcbHpZ4trI-W",
        "outputId": "49588f89-5039-405e-a2c1-783c00f61dfe"
      },
      "execution_count": null,
      "outputs": [
        {
          "output_type": "stream",
          "name": "stdout",
          "text": [
            "The example function definition ran appropriately\n"
          ]
        }
      ]
    },
    {
      "cell_type": "code",
      "source": [
        "# Another example function definition:\n",
        "# This plus_two function takes in a variable and adds 2 to it.\n",
        "def plus_two(number):\n",
        "    return number + 2\n",
        "\n",
        "assert plus_two(3) == 5\n",
        "assert plus_two(0) == 2\n",
        "assert plus_two(-2) == 0\n",
        "print(\"The plus_two assertions executed appropriately... The second function definition example executed appropriately.\")"
      ],
      "metadata": {
        "colab": {
          "base_uri": "https://localhost:8080/"
        },
        "id": "BiIErtZbrQI7",
        "outputId": "91ada39f-23cf-42f1-d351-f6ffb1566aae"
      },
      "execution_count": null,
      "outputs": [
        {
          "output_type": "stream",
          "name": "stdout",
          "text": [
            "The plus_two assertions executed appropriately... The second function definition example executed appropriately.\n"
          ]
        }
      ]
    },
    {
      "cell_type": "code",
      "source": [
        "# Exercise 10\n",
        "# Write a function definition for a function named add_one that takes in a number and returns that number plus one.\n",
        "def add_one(number):\n",
        "    return number+1\n",
        "\n",
        "\n",
        "\n",
        "assert add_one(2) == 3, \"Ensure that the function is defined, named properly, and returns the correct value\"\n",
        "assert add_one(0) == 1, \"Zero plus one is one.\"\n",
        "assert add_one(positive_even_number) == positive_even_number + 1, \"Ensure that the function is defined, named properly, and returns the correct value\"\n",
        "assert add_one(negative_odd_number) == negative_odd_number + 1, \"Ensure that the function is defined, named properly, and returns the correct value\"\n",
        "print(\"Exercise 10 is correct.\")"
      ],
      "metadata": {
        "id": "EUGkV7nTrZbA",
        "colab": {
          "base_uri": "https://localhost:8080/"
        },
        "outputId": "6da21638-bb90-4548-93d4-884d5210522c"
      },
      "execution_count": null,
      "outputs": [
        {
          "output_type": "stream",
          "name": "stdout",
          "text": [
            "Exercise 10 is correct.\n"
          ]
        }
      ]
    },
    {
      "cell_type": "code",
      "source": [
        "# Exercise 11\n",
        "# Write a function definition named is_odd that takes in a number and returns True or False if that number is odd.\n",
        "def is_odd(number):\n",
        "  if(number%2==1):\n",
        "    return True\n",
        "  else:\n",
        "    return False\n",
        "\n",
        "assert is_odd(positive_odd_number) == True, \"Ensure that the function is defined, named properly, and returns the correct value\"\n",
        "assert is_odd(positive_even_number) == False, \"Ensure that the function is defined, named properly, and returns the correct value\"\n",
        "assert is_odd(negative_odd_number) == True, \"Ensure that the function is defined, named properly, and returns the correct value\"\n",
        "assert is_odd(negative_even_number) == False, \"Ensure that the function is defined, named properly, and returns the correct value\"\n",
        "print(\"Exercise 11 is correct.\")"
      ],
      "metadata": {
        "id": "iTQVLcarrcG3",
        "colab": {
          "base_uri": "https://localhost:8080/"
        },
        "outputId": "15b846f5-308e-44d8-a31f-f9ff6a9816c4"
      },
      "execution_count": null,
      "outputs": [
        {
          "output_type": "stream",
          "name": "stdout",
          "text": [
            "Exercise 11 is correct.\n"
          ]
        }
      ]
    },
    {
      "cell_type": "code",
      "source": [
        "# Exercise 12\n",
        "# Write a function definition named is_positive_even that takes in a number and returns True or False if the value is both greater than zero and even\n",
        "def is_positive_even(number):\n",
        "  if number%2==0 and number>0:\n",
        "    return True\n",
        "  else:\n",
        "    return False\n",
        "\n",
        "assert is_positive_even(4) == True, \"Double check your syntax and logic\"\n",
        "assert is_positive_even(positive_odd_number) == False, \"Double check your syntax and logic\"\n",
        "assert is_positive_even(positive_even_number) == True, \"Double check your syntax and logic\"\n",
        "assert is_positive_even(negative_odd_number) == False, \"Double check your syntax and logic\"\n",
        "assert is_positive_even(negative_even_number) == False, \"Double check your syntax and logic\"\n",
        "print(\"Exercise 12 is correct.\")"
      ],
      "metadata": {
        "id": "G6Ai1Dhrri5D",
        "colab": {
          "base_uri": "https://localhost:8080/"
        },
        "outputId": "612aad03-aa9e-4b23-80e7-c4bd21576387"
      },
      "execution_count": null,
      "outputs": [
        {
          "output_type": "stream",
          "name": "stdout",
          "text": [
            "Exercise 12 is correct.\n"
          ]
        }
      ]
    },
    {
      "cell_type": "code",
      "source": [
        "# Exercise 13\n",
        "# Write a function definition named double that takes in a number and returns double the provided number.'\n",
        "def double(number):\n",
        "  return number*2\n",
        "\n",
        "assert double(4) == 8\n",
        "assert double(5) == 10\n",
        "assert double(positive_odd_number) == positive_odd_number * 2\n",
        "assert double(positive_even_number) == positive_even_number * 2\n",
        "assert double(negative_odd_number) == negative_odd_number * 2\n",
        "assert double(negative_even_number) == negative_even_number * 2\n",
        "print(\"Exercise 13 is correct.\")"
      ],
      "metadata": {
        "id": "tm5TrqFArsjH",
        "colab": {
          "base_uri": "https://localhost:8080/"
        },
        "outputId": "bd1cd2e3-0f04-4789-a4b2-4ffdb34275fb"
      },
      "execution_count": null,
      "outputs": [
        {
          "output_type": "stream",
          "name": "stdout",
          "text": [
            "Exercise 13 is correct.\n"
          ]
        }
      ]
    },
    {
      "cell_type": "code",
      "source": [
        "# Exercise 14\n",
        "# Write a function definition named sum_of_squares that takes in two numbers, squares each number, then returns the sum of both squares.\n",
        "def sum_of_squares(number1,number2):\n",
        "  return number1**2 + number2**2\n",
        "\n",
        "assert sum_of_squares(3, 2) == 13\n",
        "assert sum_of_squares(5, 2) == 29\n",
        "assert sum_of_squares(2, 4) == 20\n",
        "print(\"Exercise 14 is correct.\")"
      ],
      "metadata": {
        "id": "GSrhmkNwr6Qn",
        "colab": {
          "base_uri": "https://localhost:8080/"
        },
        "outputId": "e8a60abe-cf34-4e04-937d-cb2683e72ec5"
      },
      "execution_count": null,
      "outputs": [
        {
          "output_type": "stream",
          "name": "stdout",
          "text": [
            "Exercise 14 is correct.\n"
          ]
        }
      ]
    },
    {
      "cell_type": "markdown",
      "source": [
        "# Functions with Strings\n",
        "I recommend you go through the two google colab files I have shared if you have difficulty in this."
      ],
      "metadata": {
        "id": "PaiPvt74srzZ"
      }
    },
    {
      "cell_type": "code",
      "source": [
        "# Exercise 15\n",
        "# Write a function definition named has_vowels that takes in value and returns True if the string contains any vowels.\n",
        "def has_vowels(word):\n",
        "  vowels = [\"a\",\"e\",\"i\",\"o\",\"u\"]\n",
        "  state = False\n",
        "  for v in vowels:\n",
        "    if v in word:\n",
        "      state = True\n",
        "      break\n",
        "  return state\n",
        "\n",
        "assert has_vowels(\"banana\") == True\n",
        "assert has_vowels(\"ubuntu\") == True\n",
        "assert has_vowels(\"QQQQ\") == False\n",
        "assert has_vowels(\"wyrd\") == False\n",
        "print(\"Exercise 15 is correct.\")"
      ],
      "metadata": {
        "id": "4auRgTnMsbet",
        "colab": {
          "base_uri": "https://localhost:8080/"
        },
        "outputId": "ffb73ce4-7402-44ad-9e6c-15951bb90a5a"
      },
      "execution_count": null,
      "outputs": [
        {
          "output_type": "stream",
          "name": "stdout",
          "text": [
            "Exercise 15 is correct.\n"
          ]
        }
      ]
    },
    {
      "cell_type": "code",
      "source": [
        "# Exercise 16\n",
        "# Write a function definition named count_vowels that takes in value and returns the count of the nubmer of vowels in a sequence.\n",
        "def count_vowels(word):\n",
        "  vowels = [\"a\",\"e\",\"i\",\"o\",\"u\"]\n",
        "  sum=0\n",
        "  for v in word:\n",
        "    if v in vowels:\n",
        "      sum += 1\n",
        "  return sum\n",
        "\n",
        "assert count_vowels(\"banana\") == 3\n",
        "assert count_vowels(\"ubuntu\") == 3\n",
        "assert count_vowels(\"mango\") == 2\n",
        "assert count_vowels(\"QQQQ\") == 0\n",
        "assert count_vowels(\"wyrd\") == 0\n",
        "print(\"Exercise 16 is correct.\")"
      ],
      "metadata": {
        "id": "QN-lkLYftB0q",
        "colab": {
          "base_uri": "https://localhost:8080/"
        },
        "outputId": "94c094bb-5d04-45b1-bed1-58903bd934ee"
      },
      "execution_count": null,
      "outputs": [
        {
          "output_type": "stream",
          "name": "stdout",
          "text": [
            "Exercise 16 is correct.\n"
          ]
        }
      ]
    },
    {
      "cell_type": "code",
      "source": [
        "# Exercise 17\n",
        "# Write a function definition named remove_vowels that takes in string and returns the string without any vowels\n",
        "def remove_vowels(word):\n",
        "  vowels = [\"a\",\"e\",\"i\",\"o\",\"u\"]\n",
        "  result = \"\"\n",
        "  for v in word:\n",
        "    if v not in vowels:\n",
        "      result += v\n",
        "  return result\n",
        "\n",
        "assert remove_vowels(\"banana\") == \"bnn\"\n",
        "assert remove_vowels(\"ubuntu\") == \"bnt\"\n",
        "assert remove_vowels(\"mango\") == \"mng\"\n",
        "assert remove_vowels(\"QQQQ\") == \"QQQQ\"\n",
        "print(\"Exercise 17 is correct.\")"
      ],
      "metadata": {
        "id": "3Uswu498tGDe",
        "colab": {
          "base_uri": "https://localhost:8080/"
        },
        "outputId": "451c96c6-1006-4bf0-8773-26271d37be6c"
      },
      "execution_count": null,
      "outputs": [
        {
          "output_type": "stream",
          "name": "stdout",
          "text": [
            "Exercise 17 is correct.\n"
          ]
        }
      ]
    },
    {
      "cell_type": "code",
      "source": [
        "# Exercise 18\n",
        "# Write a function definition named starts_and_ends_with_vowel that takes in string and returns True if the string starts and ends with a vowel\n",
        "def starts_and_ends_with_vowel(word):\n",
        "  vowels=[\"a\",\"e\",\"i\",\"o\",\"u\"]\n",
        "  if word[0] in vowels and word[-1] in vowels:\n",
        "    return True\n",
        "  else:\n",
        "    return False\n",
        "\n",
        "assert starts_and_ends_with_vowel(\"ubuntu\") == True\n",
        "assert starts_and_ends_with_vowel(\"banana\") == False\n",
        "assert starts_and_ends_with_vowel(\"mango\") == False\n",
        "print(\"Exercise 18 is correct.\")"
      ],
      "metadata": {
        "id": "WabXu0XxtLCR",
        "colab": {
          "base_uri": "https://localhost:8080/"
        },
        "outputId": "5f4a8227-52c0-4abc-a592-76fc95becb52"
      },
      "execution_count": null,
      "outputs": [
        {
          "output_type": "stream",
          "name": "stdout",
          "text": [
            "Exercise 18 is correct.\n"
          ]
        }
      ]
    },
    {
      "cell_type": "markdown",
      "source": [
        "# Accessing List Elements\n"
      ],
      "metadata": {
        "id": "xCqaLNfCtcgG"
      }
    },
    {
      "cell_type": "code",
      "source": [
        "# Exercise 19\n",
        "# Write a function definition named first that takes in sequence and returns the first value of that sequence.\n",
        "def first(seq):\n",
        "  return seq[0]\n",
        "\n",
        "assert first(\"ubuntu\") == \"u\"\n",
        "assert first([1, 2, 3]) == 1\n",
        "assert first([\"python\", \"is\", \"awesome\"]) == \"python\"\n",
        "print(\"Exercise 19 is correct.\")"
      ],
      "metadata": {
        "id": "SA7pw41btcI-",
        "colab": {
          "base_uri": "https://localhost:8080/"
        },
        "outputId": "ab9a701e-d3f3-435e-b836-3e180dd2e1bb"
      },
      "execution_count": null,
      "outputs": [
        {
          "output_type": "stream",
          "name": "stdout",
          "text": [
            "Exercise 19 is correct.\n"
          ]
        }
      ]
    },
    {
      "cell_type": "code",
      "source": [
        "# Exercise 20\n",
        "# Write a function definition named last that takes in sequence and returns the last value of that sequence.\n",
        "def last(seq):\n",
        "  return seq[-1]\n",
        "\n",
        "assert last(\"ubuntu\") == \"u\"\n",
        "assert last([1, 2, 3, 4]) == 4\n",
        "assert last([\"python\", \"is\", \"awesome\"]) == \"awesome\"\n",
        "assert last([\"kiwi\", \"mango\", \"guava\"]) == \"guava\"\n",
        "print(\"Exercise 20 is correct.\")"
      ],
      "metadata": {
        "id": "2LUxN5jitowc",
        "colab": {
          "base_uri": "https://localhost:8080/"
        },
        "outputId": "68827454-572d-4cc6-d644-fdd49e541c17"
      },
      "execution_count": null,
      "outputs": [
        {
          "output_type": "stream",
          "name": "stdout",
          "text": [
            "Exercise 20 is correct.\n"
          ]
        }
      ]
    },
    {
      "cell_type": "code",
      "source": [
        "# Exercise 21\n",
        "# Write a function definition named first_and_second that takes in sequence and returns the first and second value of that sequence as a list\n",
        "def first_and_second(seq):\n",
        "  return [seq[0],seq[1]]\n",
        "\n",
        "assert first_and_second([1, 2, 3, 4]) == [1, 2]\n",
        "assert first_and_second([\"python\", \"is\", \"awesome\"]) == [\"python\", \"is\"]\n",
        "assert first_and_second([\"strawberry\", \"kiwi\", \"mango\", \"guava\"]) == [\"strawberry\", \"kiwi\"]\n",
        "print(\"Exercise 21 is correct.\")"
      ],
      "metadata": {
        "id": "gdY9_AJCttvJ",
        "colab": {
          "base_uri": "https://localhost:8080/"
        },
        "outputId": "de1ca280-a030-4ca4-c9bc-5c86a87a811b"
      },
      "execution_count": null,
      "outputs": [
        {
          "output_type": "stream",
          "name": "stdout",
          "text": [
            "Exercise 21 is correct.\n"
          ]
        }
      ]
    },
    {
      "cell_type": "code",
      "source": [
        "# Exercise 22\n",
        "# Write a function definition named first_to_last that takes in sequence and returns the sequence with the first value moved to the end of the sequence.\n",
        "def first_to_last(seq):\n",
        "  seq.append(seq[0])\n",
        "  seq.pop(0)\n",
        "  return seq\n",
        "\n",
        "assert first_to_last([1, 2, 3, 4]) == [2, 3, 4, 1]\n",
        "assert first_to_last([\"python\", \"is\", \"awesome\"]) == [\"is\", \"awesome\", \"python\"]\n",
        "assert first_to_last([\"strawberry\", \"kiwi\", \"mango\", \"guava\"]) == [\"kiwi\", \"mango\", \"guava\", \"strawberry\"]\n",
        "print(\"Exercise 22 is correct.\")"
      ],
      "metadata": {
        "id": "cDPGhuedt0OF",
        "colab": {
          "base_uri": "https://localhost:8080/"
        },
        "outputId": "a15afc84-3733-4e7f-fb25-efe3968f849b"
      },
      "execution_count": null,
      "outputs": [
        {
          "output_type": "stream",
          "name": "stdout",
          "text": [
            "Exercise 22 is correct.\n"
          ]
        }
      ]
    },
    {
      "cell_type": "markdown",
      "source": [
        "# Functions to Describe Data\n"
      ],
      "metadata": {
        "id": "8LRyayWlt6ZN"
      }
    },
    {
      "cell_type": "code",
      "source": [
        "# Exercise 23\n",
        "# Write a function definition named sum_all that takes in sequence of numbers and returns all the numbers added together.\n",
        "def sum_all(seq: int):\n",
        "  sum = 0\n",
        "  for s in seq:\n",
        "    sum+=s\n",
        "  return sum\n",
        "\n",
        "assert sum_all([1, 2, 3, 4]) == 10\n",
        "assert sum_all([3, 3, 3]) == 9\n",
        "assert sum_all([0, 5, 6]) == 11\n",
        "print(\"Exercise 23 is correct.\")"
      ],
      "metadata": {
        "id": "m2sAHpw-t58l",
        "colab": {
          "base_uri": "https://localhost:8080/"
        },
        "outputId": "c0b368f8-8cbf-4bec-d6e9-6e34bd4e5039"
      },
      "execution_count": null,
      "outputs": [
        {
          "output_type": "stream",
          "name": "stdout",
          "text": [
            "Exercise 23 is correct.\n"
          ]
        }
      ]
    },
    {
      "cell_type": "code",
      "source": [
        "# Exercise 24\n",
        "# Write a function definition named mean that takes in sequence of numbers and returns the average value\n",
        "def mean(seq):\n",
        "  sum=0\n",
        "  for s in seq:\n",
        "    sum+=s\n",
        "  return sum/len(seq)\n",
        "\n",
        "assert mean([1, 2, 3, 4, 5]) == 3.0\n",
        "assert mean([1, 2, 3]) == 2.0\n",
        "assert mean([1, 5, 6]) == 4.0\n",
        "assert mean([1, 2, 5, 6]) == 3.5\n",
        "print(\"Exercise 24 is correct.\")"
      ],
      "metadata": {
        "id": "Mt2EeKsfuEIW",
        "colab": {
          "base_uri": "https://localhost:8080/"
        },
        "outputId": "12e97672-c934-4107-cbf2-acd56d1e7a52"
      },
      "execution_count": null,
      "outputs": [
        {
          "output_type": "stream",
          "name": "stdout",
          "text": [
            "Exercise 24 is correct.\n"
          ]
        }
      ]
    },
    {
      "cell_type": "code",
      "source": [
        "# Exercise 24\n",
        "# Write a function definition named mode that takes in sequence of numbers and returns the most commonly occuring value\n",
        "def mode(numbers):\n",
        "    if not numbers:\n",
        "        return []\n",
        "\n",
        "    unique_numbers = []\n",
        "    counts = []\n",
        "\n",
        "    for num in numbers:\n",
        "        if num in unique_numbers:\n",
        "            index = unique_numbers.index(num)\n",
        "            counts[index] += 1\n",
        "        else:\n",
        "            unique_numbers.append(num)\n",
        "            counts.append(1)\n",
        "\n",
        "    max_count = max(counts)\n",
        "\n",
        "    modes = []\n",
        "    for i in range(len(counts)):\n",
        "        if counts[i] == max_count:\n",
        "            modes.append(unique_numbers[i])\n",
        "\n",
        "    return modes[0] if len(modes) == 1 else modes\n",
        "\n",
        "\n",
        "\n",
        "\n",
        "assert mode([1, 2, 2, 3, 4]) == 2\n",
        "assert mode([1, 1, 2, 3]) == 1\n",
        "assert mode([2, 2, 3, 3, 3]) == 3\n",
        "print(\"Exercise 24 is correct.\")"
      ],
      "metadata": {
        "id": "HgLdQbNTuMqz",
        "colab": {
          "base_uri": "https://localhost:8080/"
        },
        "outputId": "4af4844c-554f-4443-b407-9d81a89bbc12"
      },
      "execution_count": null,
      "outputs": [
        {
          "output_type": "stream",
          "name": "stdout",
          "text": [
            "Exercise 24 is correct.\n"
          ]
        }
      ]
    },
    {
      "cell_type": "markdown",
      "source": [
        "# Applying Functions to Lists\n"
      ],
      "metadata": {
        "id": "F_MVcTfIuSiy"
      }
    },
    {
      "cell_type": "code",
      "source": [
        "# Exercise 25\n",
        "# Write a function definition named get_highest_number that takes in sequence of numbers and returns the largest number.\n",
        "\n",
        "def get_highest_number(num):\n",
        "  ans = num[0]\n",
        "  for x in num:\n",
        "    if(x>ans):\n",
        "      ans = x\n",
        "  return ans\n",
        "\n",
        "assert get_highest_number([1, 2, 3]) == 3\n",
        "assert get_highest_number([-5, -4, -3, -2, -1, 1, 2, 3, 4, 5]) == 5\n",
        "assert get_highest_number([-5, -3, 1]) == 1\n",
        "print(\"Exercise 25 is correct.\")"
      ],
      "metadata": {
        "id": "KAyrqevouXow",
        "colab": {
          "base_uri": "https://localhost:8080/"
        },
        "outputId": "017949fd-30c9-4bb3-c680-21e323c83a14"
      },
      "execution_count": null,
      "outputs": [
        {
          "output_type": "stream",
          "name": "stdout",
          "text": [
            "Exercise 25 is correct.\n"
          ]
        }
      ]
    },
    {
      "cell_type": "code",
      "source": [
        "# Exercise 26\n",
        "# Write a function definition named only_odd_numbers that takes in sequence of numbers and returns the odd numbers in a list.\n",
        "\n",
        "def only_odd_numbers(num):\n",
        "  ans = []\n",
        "  for x in num:\n",
        "    if(x%2==1):\n",
        "      ans.append(x)\n",
        "  return ans\n",
        "\n",
        "assert only_odd_numbers([1, 2, 3]) == [1, 3]\n",
        "assert only_odd_numbers([-5, -4, -3, -2, -1, 1, 2, 3, 4, 5]) == [-5, -3, -1, 1, 3, 5]\n",
        "assert only_odd_numbers([-4, -3, 1]) == [-3, 1]\n",
        "assert only_odd_numbers([2, 2, 2, 2, 2]) == []\n",
        "print(\"Exercise 26 is correct.\")"
      ],
      "metadata": {
        "id": "517qI-KmucIa",
        "colab": {
          "base_uri": "https://localhost:8080/"
        },
        "outputId": "34ec83f4-1e40-4d99-921d-d4c35481576a"
      },
      "execution_count": null,
      "outputs": [
        {
          "output_type": "stream",
          "name": "stdout",
          "text": [
            "Exercise 26 is correct.\n"
          ]
        }
      ]
    },
    {
      "cell_type": "code",
      "source": [
        "# Exercise 27\n",
        "# Write a function definition named count_evens that takes in sequence of numbers and returns the number of even numbers\n",
        "\n",
        "def count_evens(num):\n",
        "  ans=0\n",
        "  for x in num:\n",
        "    if(x%2==0):\n",
        "      ans+=1\n",
        "  return ans\n",
        "\n",
        "assert count_evens([1, 2, 3]) == 1\n",
        "assert count_evens([2, 5, 6]) == 2\n",
        "assert count_evens([3, 3, 3]) == 0\n",
        "assert count_evens([5, 6, 7, 8] ) == 2\n",
        "print(\"Exercise 27 is correct.\")"
      ],
      "metadata": {
        "id": "uCpfD1NnugoD",
        "colab": {
          "base_uri": "https://localhost:8080/"
        },
        "outputId": "dbb4f8fd-0e4c-461b-9b30-3af5e1f46447"
      },
      "execution_count": null,
      "outputs": [
        {
          "output_type": "stream",
          "name": "stdout",
          "text": [
            "Exercise 27 is correct.\n"
          ]
        }
      ]
    },
    {
      "cell_type": "code",
      "source": [
        "# Exercise 28\n",
        "# Write a function definition named shortest_string that takes in a list of strings and returns the shortest string in the list.\n",
        "\n",
        "def shortest_string(inp):\n",
        "  ans = inp[0]\n",
        "  for x in inp:\n",
        "    if len(x) < len(ans):\n",
        "      ans = x\n",
        "  return ans\n",
        "\n",
        "assert shortest_string([\"kiwi\", \"mango\", \"strawberry\"]) == \"kiwi\"\n",
        "assert shortest_string([\"hello\", \"everybody\"]) == \"hello\"\n",
        "assert shortest_string([\"mary\", \"had\", \"a\", \"little\", \"lamb\"]) == \"a\"\n",
        "print(\"Exercise 28 is correct.\")"
      ],
      "metadata": {
        "id": "RxqDOb7Wum-C",
        "colab": {
          "base_uri": "https://localhost:8080/"
        },
        "outputId": "ca59a21d-8f6d-443c-92ba-a63340a83497"
      },
      "execution_count": null,
      "outputs": [
        {
          "output_type": "stream",
          "name": "stdout",
          "text": [
            "Exercise 28 is correct.\n"
          ]
        }
      ]
    },
    {
      "cell_type": "markdown",
      "source": [
        "# Working with Sets\n",
        "Take a look at the `set` function in Python, the `set` data type, and built-in `set` methods."
      ],
      "metadata": {
        "id": "D9arvRTSu482"
      }
    },
    {
      "cell_type": "code",
      "source": [
        "# Example set function usage\n",
        "print(set(\"kiwi\"))\n",
        "print(set([1, 2, 2, 3, 3, 3, 4, 4, 4, 4]))"
      ],
      "metadata": {
        "colab": {
          "base_uri": "https://localhost:8080/"
        },
        "id": "4XjNxjkFu4b-",
        "outputId": "2126f541-9567-4d09-cb35-c3e3139d2922"
      },
      "execution_count": null,
      "outputs": [
        {
          "output_type": "stream",
          "name": "stdout",
          "text": [
            "{'w', 'k', 'i'}\n",
            "{1, 2, 3, 4}\n"
          ]
        }
      ]
    },
    {
      "cell_type": "code",
      "source": [
        "# Exercise 29\n",
        "# Write a function definition named get_unique_values that takes in a list and returns a set with only the unique values from that list.\n",
        "\n",
        "def get_unique_values(inp):\n",
        "  return set(inp)\n",
        "\n",
        "assert get_unique_values([\"ant\", \"ant\", \"mosquito\", \"mosquito\", \"ladybug\"]) == {\"ant\", \"mosquito\", \"ladybug\"}\n",
        "assert get_unique_values([\"b\", \"a\", \"n\", \"a\", \"n\", \"a\", \"s\"]) == {\"b\", \"a\", \"n\", \"s\"}\n",
        "assert get_unique_values([\"mary\", \"had\", \"a\", \"little\", \"lamb\", \"little\", \"lamb\", \"little\", \"lamb\"]) == {\"mary\", \"had\", \"a\", \"little\", \"lamb\"}\n",
        "print(\"Exercise 29 is correct.\")"
      ],
      "metadata": {
        "id": "D3N-ZOg6vTpM",
        "colab": {
          "base_uri": "https://localhost:8080/"
        },
        "outputId": "26eaf408-6949-41d9-c757-46ff7a9b4344"
      },
      "execution_count": null,
      "outputs": [
        {
          "output_type": "stream",
          "name": "stdout",
          "text": [
            "Exercise 29 is correct.\n"
          ]
        }
      ]
    },
    {
      "cell_type": "code",
      "source": [
        "# Exercise 30\n",
        "# Write a function definition named get_values_in_common that takes two lists and returns a single set with the values that each list has in common\n",
        "\n",
        "def get_values_in_common(inp1,inp2):\n",
        "  set1 = set(inp1)\n",
        "  set2 = set(inp2)\n",
        "\n",
        "  return set1 & set2\n",
        "\n",
        "\n",
        "assert get_values_in_common([5, 1, 2, 3], [3, 4, 5, 5]) == {3, 5}\n",
        "assert get_values_in_common([1, 2], [2, 2, 3]) == {2}\n",
        "assert get_values_in_common([\"tomato\", \"mango\", \"kiwi\"], [\"eggplant\", \"tomato\", \"broccoli\"]) == {\"tomato\"}\n",
        "print(\"Exercise 30 is correct.\")"
      ],
      "metadata": {
        "id": "myQNUXapvXee",
        "colab": {
          "base_uri": "https://localhost:8080/"
        },
        "outputId": "1f2d9780-9525-415d-e557-589b740f68c4"
      },
      "execution_count": null,
      "outputs": [
        {
          "output_type": "stream",
          "name": "stdout",
          "text": [
            "Exercise 30 is correct.\n"
          ]
        }
      ]
    },
    {
      "cell_type": "code",
      "source": [],
      "metadata": {
        "id": "pzrDil06vdDj"
      },
      "execution_count": null,
      "outputs": []
    }
  ]
}